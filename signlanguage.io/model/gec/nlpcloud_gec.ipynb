{
  "nbformat": 4,
  "nbformat_minor": 0,
  "metadata": {
    "colab": {
      "provenance": [],
      "include_colab_link": true
    },
    "kernelspec": {
      "name": "python3",
      "display_name": "Python 3"
    },
    "language_info": {
      "name": "python"
    }
  },
  "cells": [
    {
      "cell_type": "markdown",
      "metadata": {
        "id": "view-in-github",
        "colab_type": "text"
      },
      "source": [
        "<a href=\"https://colab.research.google.com/github/srilamaiti/fall_2023_210_capstone_deepika_srila/blob/main/final_deliverable/model/gec/nlpcloud_gec.ipynb\" target=\"_parent\"><img src=\"https://colab.research.google.com/assets/colab-badge.svg\" alt=\"Open In Colab\"/></a>"
      ]
    },
    {
      "cell_type": "code",
      "execution_count": 1,
      "metadata": {
        "colab": {
          "base_uri": "https://localhost:8080/"
        },
        "id": "oP34PvPrayid",
        "outputId": "657dcf26-28d8-4cd0-eb69-6e05bfa503a2"
      },
      "outputs": [
        {
          "output_type": "stream",
          "name": "stdout",
          "text": [
            "Collecting nlpcloud\n",
            "  Downloading nlpcloud-1.1.45-py3-none-any.whl (3.9 kB)\n",
            "Requirement already satisfied: requests in /usr/local/lib/python3.10/dist-packages (from nlpcloud) (2.31.0)\n",
            "Requirement already satisfied: charset-normalizer<4,>=2 in /usr/local/lib/python3.10/dist-packages (from requests->nlpcloud) (3.3.2)\n",
            "Requirement already satisfied: idna<4,>=2.5 in /usr/local/lib/python3.10/dist-packages (from requests->nlpcloud) (3.6)\n",
            "Requirement already satisfied: urllib3<3,>=1.21.1 in /usr/local/lib/python3.10/dist-packages (from requests->nlpcloud) (2.0.7)\n",
            "Requirement already satisfied: certifi>=2017.4.17 in /usr/local/lib/python3.10/dist-packages (from requests->nlpcloud) (2023.11.17)\n",
            "Installing collected packages: nlpcloud\n",
            "Successfully installed nlpcloud-1.1.45\n"
          ]
        }
      ],
      "source": [
        "pip install nlpcloud"
      ]
    },
    {
      "cell_type": "code",
      "source": [
        "import nlpcloud"
      ],
      "metadata": {
        "id": "FxyAnfcLa6hw"
      },
      "execution_count": 2,
      "outputs": []
    },
    {
      "cell_type": "code",
      "source": [
        "input_list = [\"hello\", \"hello\", \"teacher\", \"hello\", \"love\", \"teacher\", \"teacher\", \"teacher\", \"class\", \"love\", \"class\", \"class\"]\n",
        "clean_list = []\n",
        "for idx in range(len(input_list) - 1):\n",
        "    if input_list[idx] == input_list[idx + 1] and input_list[idx] not in clean_list:\n",
        "        clean_list.append(input_list[idx])\n",
        "    elif input_list[idx] != input_list[idx + 1] and input_list[idx] not in clean_list:\n",
        "        clean_list.append(input_list[idx])\n",
        "clean_list"
      ],
      "metadata": {
        "id": "I2ul7cDVDwpC",
        "outputId": "1466c72e-e9da-4a26-a7cb-97f5f395c66e",
        "colab": {
          "base_uri": "https://localhost:8080/"
        }
      },
      "execution_count": 12,
      "outputs": [
        {
          "output_type": "execute_result",
          "data": {
            "text/plain": [
              "['hello', 'teacher', 'love', 'class']"
            ]
          },
          "metadata": {},
          "execution_count": 12
        }
      ]
    },
    {
      "cell_type": "code",
      "source": [
        "client = nlpcloud.Client(\"finetuned-llama-2-70b\", \"d4274d3e168c5adbcc135f7125cbff8e76544dc3\", True)\n",
        "# Returns a json object.\n",
        "#client.gs_correction(\"hello teacher thankyou love class\")\n",
        "\n",
        "client.gs_correction(\"hello teacher love class\")"
      ],
      "metadata": {
        "colab": {
          "base_uri": "https://localhost:8080/"
        },
        "id": "UJaeyfZAa-om",
        "outputId": "073dd5f4-275c-4774-b205-57de02d6972d"
      },
      "execution_count": 13,
      "outputs": [
        {
          "output_type": "execute_result",
          "data": {
            "text/plain": [
              "{'correction': 'Hello Teacher, I love class!'}"
            ]
          },
          "metadata": {},
          "execution_count": 13
        }
      ]
    }
  ]
}