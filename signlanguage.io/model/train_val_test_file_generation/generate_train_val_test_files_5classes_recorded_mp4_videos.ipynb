{
  "nbformat": 4,
  "nbformat_minor": 0,
  "metadata": {
    "colab": {
      "provenance": [],
      "include_colab_link": true
    },
    "kernelspec": {
      "name": "python3",
      "display_name": "Python 3"
    },
    "language_info": {
      "name": "python"
    }
  },
  "cells": [
    {
      "cell_type": "markdown",
      "metadata": {
        "id": "view-in-github",
        "colab_type": "text"
      },
      "source": [
        "<a href=\"https://colab.research.google.com/github/srilamaiti/fall_2023_210_capstone_deepika_srila/blob/main/final_deliverable/model/train_val_test_file_generation%20/generate_train_val_test_files_5classes_recorded_mp4_videos.ipynb\" target=\"_parent\"><img src=\"https://colab.research.google.com/assets/colab-badge.svg\" alt=\"Open In Colab\"/></a>"
      ]
    },
    {
      "cell_type": "code",
      "execution_count": null,
      "metadata": {
        "colab": {
          "base_uri": "https://localhost:8080/"
        },
        "id": "qMXDxJOwJnEI",
        "outputId": "be9cc68f-b304-4459-a342-347582b608d2"
      },
      "outputs": [
        {
          "output_type": "stream",
          "name": "stdout",
          "text": [
            "Collecting mediapipe\n",
            "  Downloading mediapipe-0.10.8-cp310-cp310-manylinux_2_17_x86_64.manylinux2014_x86_64.whl (34.5 MB)\n",
            "\u001b[2K     \u001b[90m━━━━━━━━━━━━━━━━━━━━━━━━━━━━━━━━━━━━━━━━\u001b[0m \u001b[32m34.5/34.5 MB\u001b[0m \u001b[31m41.1 MB/s\u001b[0m eta \u001b[36m0:00:00\u001b[0m\n",
            "\u001b[?25hRequirement already satisfied: absl-py in /usr/local/lib/python3.10/dist-packages (from mediapipe) (1.4.0)\n",
            "Requirement already satisfied: attrs>=19.1.0 in /usr/local/lib/python3.10/dist-packages (from mediapipe) (23.1.0)\n",
            "Requirement already satisfied: flatbuffers>=2.0 in /usr/local/lib/python3.10/dist-packages (from mediapipe) (23.5.26)\n",
            "Requirement already satisfied: matplotlib in /usr/local/lib/python3.10/dist-packages (from mediapipe) (3.7.1)\n",
            "Requirement already satisfied: numpy in /usr/local/lib/python3.10/dist-packages (from mediapipe) (1.23.5)\n",
            "Requirement already satisfied: opencv-contrib-python in /usr/local/lib/python3.10/dist-packages (from mediapipe) (4.8.0.76)\n",
            "Requirement already satisfied: protobuf<4,>=3.11 in /usr/local/lib/python3.10/dist-packages (from mediapipe) (3.20.3)\n",
            "Collecting sounddevice>=0.4.4 (from mediapipe)\n",
            "  Downloading sounddevice-0.4.6-py3-none-any.whl (31 kB)\n",
            "Requirement already satisfied: CFFI>=1.0 in /usr/local/lib/python3.10/dist-packages (from sounddevice>=0.4.4->mediapipe) (1.16.0)\n",
            "Requirement already satisfied: contourpy>=1.0.1 in /usr/local/lib/python3.10/dist-packages (from matplotlib->mediapipe) (1.2.0)\n",
            "Requirement already satisfied: cycler>=0.10 in /usr/local/lib/python3.10/dist-packages (from matplotlib->mediapipe) (0.12.1)\n",
            "Requirement already satisfied: fonttools>=4.22.0 in /usr/local/lib/python3.10/dist-packages (from matplotlib->mediapipe) (4.45.1)\n",
            "Requirement already satisfied: kiwisolver>=1.0.1 in /usr/local/lib/python3.10/dist-packages (from matplotlib->mediapipe) (1.4.5)\n",
            "Requirement already satisfied: packaging>=20.0 in /usr/local/lib/python3.10/dist-packages (from matplotlib->mediapipe) (23.2)\n",
            "Requirement already satisfied: pillow>=6.2.0 in /usr/local/lib/python3.10/dist-packages (from matplotlib->mediapipe) (9.4.0)\n",
            "Requirement already satisfied: pyparsing>=2.3.1 in /usr/local/lib/python3.10/dist-packages (from matplotlib->mediapipe) (3.1.1)\n",
            "Requirement already satisfied: python-dateutil>=2.7 in /usr/local/lib/python3.10/dist-packages (from matplotlib->mediapipe) (2.8.2)\n",
            "Requirement already satisfied: pycparser in /usr/local/lib/python3.10/dist-packages (from CFFI>=1.0->sounddevice>=0.4.4->mediapipe) (2.21)\n",
            "Requirement already satisfied: six>=1.5 in /usr/local/lib/python3.10/dist-packages (from python-dateutil>=2.7->matplotlib->mediapipe) (1.16.0)\n",
            "Installing collected packages: sounddevice, mediapipe\n",
            "Successfully installed mediapipe-0.10.8 sounddevice-0.4.6\n"
          ]
        }
      ],
      "source": [
        "!pip install mediapipe"
      ]
    },
    {
      "cell_type": "code",
      "source": [
        "import os\n",
        "import random\n",
        "import tqdm\n",
        "import sys\n",
        "import pathlib\n",
        "import itertools\n",
        "import collections\n",
        "from pathlib import Path\n",
        "from sklearn.utils import shuffle\n",
        "import shutil\n",
        "import glob\n",
        "from glob import glob\n",
        "import urllib.request\n",
        "import subprocess\n",
        "from mediapipe import solutions\n",
        "from mediapipe.framework.formats import landmark_pb2\n",
        "import mediapipe as mp\n",
        "from google.colab.patches import cv2_imshow\n",
        "from google.colab import drive\n",
        "drive.mount(\"/content/drive\", force_remount=True)\n",
        "os.environ['GDRIVE_CONFIG_DIR'] = \"/content/drive/MyDrive\"\n",
        "import warnings\n",
        "warnings.simplefilter(\"ignore\", category=DeprecationWarning)"
      ],
      "metadata": {
        "colab": {
          "base_uri": "https://localhost:8080/"
        },
        "id": "BOpibPwzJvdr",
        "outputId": "ba32710f-1617-4820-8a38-6986d4711991"
      },
      "execution_count": null,
      "outputs": [
        {
          "output_type": "stream",
          "name": "stdout",
          "text": [
            "Mounted at /content/drive\n"
          ]
        }
      ]
    },
    {
      "cell_type": "code",
      "source": [
        "LABEL_LIST = ['hello', 'thankyou', 'teacher', 'class', 'love']\n",
        "\n",
        "label_info_dict = {}\n",
        "for label in LABEL_LIST:\n",
        "    label_info_dict[label] = {'gdrive_mp4_path_1' : os.path.join(os.environ['GDRIVE_CONFIG_DIR'], 'recorded_videos', f'{label}_mp4_videos'),\n",
        "                              'gdrive_mp4_path_1_file_count' : len(glob(os.path.join(os.environ['GDRIVE_CONFIG_DIR'], 'recorded_videos', f'{label}_mp4_videos') + \"/*.mp4\")),\n",
        "                              'gdrive_mp4_path_2' : os.path.join(os.environ['GDRIVE_CONFIG_DIR'], 'webscraped_videos', f'{label}_mp4_videos'),\n",
        "                              'gdrive_mp4_path_2_file_count' : len(glob(os.path.join(os.environ['GDRIVE_CONFIG_DIR'], 'webscraped_videos', f'{label}_mp4_videos') + \"/*.mp4\"))\n",
        "                             }\n",
        "label_info_dict"
      ],
      "metadata": {
        "colab": {
          "base_uri": "https://localhost:8080/"
        },
        "id": "mHaPjNYXJweQ",
        "outputId": "441b62ad-0d0e-4625-9cab-7993694fb08a"
      },
      "execution_count": null,
      "outputs": [
        {
          "output_type": "execute_result",
          "data": {
            "text/plain": [
              "{'hello': {'gdrive_mp4_path_1': '/content/drive/MyDrive/recorded_videos/hello_mp4_videos',\n",
              "  'gdrive_mp4_path_1_file_count': 21,\n",
              "  'gdrive_mp4_path_2': '/content/drive/MyDrive/webscraped_videos/hello_mp4_videos',\n",
              "  'gdrive_mp4_path_2_file_count': 0},\n",
              " 'thankyou': {'gdrive_mp4_path_1': '/content/drive/MyDrive/recorded_videos/thankyou_mp4_videos',\n",
              "  'gdrive_mp4_path_1_file_count': 21,\n",
              "  'gdrive_mp4_path_2': '/content/drive/MyDrive/webscraped_videos/thankyou_mp4_videos',\n",
              "  'gdrive_mp4_path_2_file_count': 0},\n",
              " 'teacher': {'gdrive_mp4_path_1': '/content/drive/MyDrive/recorded_videos/teacher_mp4_videos',\n",
              "  'gdrive_mp4_path_1_file_count': 20,\n",
              "  'gdrive_mp4_path_2': '/content/drive/MyDrive/webscraped_videos/teacher_mp4_videos',\n",
              "  'gdrive_mp4_path_2_file_count': 0},\n",
              " 'class': {'gdrive_mp4_path_1': '/content/drive/MyDrive/recorded_videos/class_mp4_videos',\n",
              "  'gdrive_mp4_path_1_file_count': 21,\n",
              "  'gdrive_mp4_path_2': '/content/drive/MyDrive/webscraped_videos/class_mp4_videos',\n",
              "  'gdrive_mp4_path_2_file_count': 0},\n",
              " 'love': {'gdrive_mp4_path_1': '/content/drive/MyDrive/recorded_videos/love_mp4_videos',\n",
              "  'gdrive_mp4_path_1_file_count': 20,\n",
              "  'gdrive_mp4_path_2': '/content/drive/MyDrive/webscraped_videos/love_mp4_videos',\n",
              "  'gdrive_mp4_path_2_file_count': 0}}"
            ]
          },
          "metadata": {},
          "execution_count": 3
        }
      ]
    },
    {
      "cell_type": "code",
      "source": [
        "def create_dir(dir_path):\n",
        "    os.makedirs(dir_path, exist_ok=True)\n",
        "\n",
        "def copy_file(file_name, dir_path):\n",
        "    !cp {file} {dir_path}\n",
        "\n",
        "def copy_set_of_files(file_list, dir_path):\n",
        "    #print(len(file_list), dir_path)\n",
        "    for file in file_list:\n",
        "        #print(f\"Copying {file} to {dir_path}\")\n",
        "        #copy_file(file_name = file, dir_path = dir_path)\n",
        "        !cp {file} {dir_path}\n",
        "    print(f\"File count in {dir_path} : {len(os.listdir(dir_path))}\")\n",
        "    #print(os.listdir(dir_path))\n",
        "\n",
        "def remove_files_from_dir(dir_path):\n",
        "    for file in os.listdir(dir_path):\n",
        "        qualified_file_name = os.path.join(dir_path, file)\n",
        "        !rm -rf {qualified_file_name}\n",
        "    print(f\"File count in {dir_path} : {len(os.listdir(dir_path))}\")"
      ],
      "metadata": {
        "id": "Ib1KlM0esA4_"
      },
      "execution_count": null,
      "outputs": []
    },
    {
      "cell_type": "code",
      "source": [
        "random.seed(1234)\n",
        "os.environ['PYTHONHASHSEED'] = '1234'"
      ],
      "metadata": {
        "id": "71BzuHoKsDY5"
      },
      "execution_count": null,
      "outputs": []
    },
    {
      "cell_type": "code",
      "source": [
        "SPLITS = (.6, .2, .2)\n",
        "TOTAL_SAMPLES_PER_LABEL = 10\n",
        "\n",
        "TRAIN_RECS_PER_LABEL = int(TOTAL_SAMPLES_PER_LABEL * SPLITS[0])\n",
        "VAL_RECS_PER_LABEL = int(TOTAL_SAMPLES_PER_LABEL * SPLITS[1])\n",
        "TEST_RECS_PER_LABEL = int(TOTAL_SAMPLES_PER_LABEL * SPLITS[2])\n",
        "\n",
        "print(f\"TRAIN_RECS_PER_LABEL : {TRAIN_RECS_PER_LABEL}\")\n",
        "print(f\"VAL_RECS_PER_LABEL : {VAL_RECS_PER_LABEL}\")\n",
        "print(f\"TEST_RECS_PER_LABEL : {TEST_RECS_PER_LABEL}\")"
      ],
      "metadata": {
        "colab": {
          "base_uri": "https://localhost:8080/"
        },
        "id": "s6V49iVkofOO",
        "outputId": "75b70382-2fe0-42eb-d0ba-8e6d6b2ac691"
      },
      "execution_count": null,
      "outputs": [
        {
          "output_type": "stream",
          "name": "stdout",
          "text": [
            "TRAIN_RECS_PER_LABEL : 6\n",
            "VAL_RECS_PER_LABEL : 2\n",
            "TEST_RECS_PER_LABEL : 2\n"
          ]
        }
      ]
    },
    {
      "cell_type": "code",
      "source": [
        "TRAIN_FILE_LIST = []\n",
        "VAL_FILE_LIST = []\n",
        "TEST_FILE_LIST = []\n",
        "\n",
        "# Saving files in gdrive\n",
        "#current_ts = datetime.today().isoformat().replace(\"-\",\"\").replace(\"T\",\"\").replace(\":\",\"\").replace(\".\",\"\")\n",
        "TRAIN_FILE_NAME = os.path.join(os.environ['GDRIVE_CONFIG_DIR'], '5classes_train_val_test_recorded_mp4_videos', 'train_files.txt')\n",
        "VAL_FILE_NAME = os.path.join(os.environ['GDRIVE_CONFIG_DIR'], '5classes_train_val_test_recorded_mp4_videos', 'val_files.txt')\n",
        "TEST_FILE_NAME = os.path.join(os.environ['GDRIVE_CONFIG_DIR'], '5classes_train_val_test_recorded_mp4_videos', 'test_files.txt')\n",
        "\n",
        "train_file_pointer = open(TRAIN_FILE_NAME, 'w')\n",
        "val_file_pointer = open(VAL_FILE_NAME, 'w')\n",
        "test_file_pointer = open(TEST_FILE_NAME, 'w')\n",
        "\n",
        "for label in LABEL_LIST:\n",
        "    gdrive_path_1 = label_info_dict[label]['gdrive_mp4_path_1'] # recorded videos\n",
        "\n",
        "    # test\n",
        "    temp_test_files_1 = subprocess.getoutput(f\"shuf -zn{TEST_RECS_PER_LABEL} -e {gdrive_path_1}/*.mp4 \").split(\"\\n\")\n",
        "    test_files_1 = [e.split(\" -> \")[0].replace(\"'\",\"\") for e in temp_test_files_1]\n",
        "    test_files_1 = test_files_1[0].split(\"\\x00\")[:-1]\n",
        "    test_files = test_files_1\n",
        "\n",
        "    # train\n",
        "    temp_train_files_1 = list(set([os.path.join(gdrive_path_1, file) for file in os.listdir(gdrive_path_1)]) - set(test_files_1))\n",
        "    temp_train_files_1 = sorted(temp_train_files_1, key=lambda x: random.random())\n",
        "    train_files_1 = random.sample(temp_train_files_1, TRAIN_RECS_PER_LABEL)\n",
        "    train_files = train_files_1\n",
        "\n",
        "    # val\n",
        "    temp_val_files_1 = list(set([os.path.join(gdrive_path_1, file) for file in os.listdir(gdrive_path_1)]) - set(test_files_1) - set(train_files_1))\n",
        "    temp_val_files_1 = sorted(temp_val_files_1, key=lambda x: random.random())\n",
        "    val_files_1 = random.sample(temp_val_files_1, VAL_RECS_PER_LABEL)\n",
        "    val_files = val_files_1\n",
        "\n",
        "    [train_file_pointer.writelines(e + \"\\n\") for e in train_files]\n",
        "    [val_file_pointer.writelines(e + \"\\n\") for e in val_files]\n",
        "    [test_file_pointer.writelines(e + \"\\n\") for e in test_files]\n",
        "\n",
        "# File closing\n",
        "train_file_pointer.close()\n",
        "val_file_pointer.close()\n",
        "test_file_pointer.close()"
      ],
      "metadata": {
        "id": "rQQKDpA5r8wa"
      },
      "execution_count": null,
      "outputs": []
    },
    {
      "cell_type": "code",
      "source": [
        "!cat {TRAIN_FILE_NAME}|wc -l"
      ],
      "metadata": {
        "colab": {
          "base_uri": "https://localhost:8080/"
        },
        "id": "ENTHeG3Atrsa",
        "outputId": "28f6a736-e5bc-4570-f25b-8924aeec7997"
      },
      "execution_count": null,
      "outputs": [
        {
          "output_type": "stream",
          "name": "stdout",
          "text": [
            "30\n"
          ]
        }
      ]
    },
    {
      "cell_type": "code",
      "source": [
        "!cat {TEST_FILE_NAME}|wc -l"
      ],
      "metadata": {
        "colab": {
          "base_uri": "https://localhost:8080/"
        },
        "id": "R8p-dmCLtufo",
        "outputId": "da4e7d0e-99ef-4ecc-d41a-875dd2294fce"
      },
      "execution_count": null,
      "outputs": [
        {
          "output_type": "stream",
          "name": "stdout",
          "text": [
            "10\n"
          ]
        }
      ]
    },
    {
      "cell_type": "code",
      "source": [
        "!cat {VAL_FILE_NAME}|wc -l"
      ],
      "metadata": {
        "colab": {
          "base_uri": "https://localhost:8080/"
        },
        "id": "o6_xw34Ytwp6",
        "outputId": "3e263050-cdbc-4af6-9974-11020ebd7ea8"
      },
      "execution_count": null,
      "outputs": [
        {
          "output_type": "stream",
          "name": "stdout",
          "text": [
            "10\n"
          ]
        }
      ]
    },
    {
      "cell_type": "code",
      "source": [
        "TRAIN_FILE_PATH = os.path.join(os.environ['GDRIVE_CONFIG_DIR'], '5classes_train_val_test_recorded_mp4_videos', 'train')\n",
        "VAL_FILE_PATH = os.path.join(os.environ['GDRIVE_CONFIG_DIR'], '5classes_train_val_test_recorded_mp4_videos', 'val')\n",
        "TEST_FILE_PATH = os.path.join(os.environ['GDRIVE_CONFIG_DIR'], '5classes_train_val_test_recorded_mp4_videos', 'test')\n",
        "\n",
        "for label in LABEL_LIST:\n",
        "    train_dir_name = os.path.join(TRAIN_FILE_PATH, label)\n",
        "    create_dir(train_dir_name)\n",
        "\n",
        "    val_dir_name = os.path.join(VAL_FILE_PATH, label)\n",
        "    create_dir(val_dir_name)\n",
        "\n",
        "    test_dir_name = os.path.join(TEST_FILE_PATH, label)\n",
        "    create_dir(test_dir_name)"
      ],
      "metadata": {
        "id": "kvtVaJMtt97d"
      },
      "execution_count": null,
      "outputs": []
    },
    {
      "cell_type": "code",
      "source": [
        "def copy_file_to_folder(file_name, dir_path):\n",
        "    fp = open(file_name, \"r\")\n",
        "    for file in fp:\n",
        "        file = file.strip()\n",
        "        label = file.split(\"/\")[-2].split(\"_\")[0]\n",
        "        base_file_name = os.path.basename(file)\n",
        "        dest_path = os.path.join(dir_path, label)\n",
        "        shutil.copy(file, dest_path)\n",
        "        #!ls -ltrSh {dir_path}/{label}/*.avi | wc -l"
      ],
      "metadata": {
        "id": "s2wELrSruGFx"
      },
      "execution_count": null,
      "outputs": []
    },
    {
      "cell_type": "code",
      "source": [
        "for label in LABEL_LIST:\n",
        "    !rm -rf {TRAIN_FILE_PATH}/{label}/*.mp4\n",
        "    !rm -rf {VAL_FILE_PATH}/{label}/*.mp4\n",
        "    !rm -rf {TEST_FILE_PATH}/{label}/*.mp4\n",
        "\n",
        "copy_file_to_folder(file_name = TRAIN_FILE_NAME, dir_path = TRAIN_FILE_PATH)\n",
        "copy_file_to_folder(file_name = VAL_FILE_NAME, dir_path = VAL_FILE_PATH)\n",
        "copy_file_to_folder(file_name = TEST_FILE_NAME, dir_path = TEST_FILE_PATH)\n",
        "\n",
        "for label in LABEL_LIST:\n",
        "    !ls -ltrSh {TRAIN_FILE_PATH}/{label}/*.mp4 | wc -l\n",
        "    !ls -ltrSh {VAL_FILE_PATH}/{label}/*.mp4 | wc -l\n",
        "    !ls -ltrSh {TEST_FILE_PATH}/{label}/*.mp4 | wc -l"
      ],
      "metadata": {
        "colab": {
          "base_uri": "https://localhost:8080/"
        },
        "id": "3GT6SKGhuIYZ",
        "outputId": "68bc5fd2-2b47-4ec7-b8f6-5dd8b9df6aa2"
      },
      "execution_count": null,
      "outputs": [
        {
          "output_type": "stream",
          "name": "stdout",
          "text": [
            "6\n",
            "2\n",
            "2\n",
            "6\n",
            "2\n",
            "2\n",
            "6\n",
            "2\n",
            "2\n",
            "6\n",
            "2\n",
            "2\n",
            "6\n",
            "2\n",
            "2\n"
          ]
        }
      ]
    },
    {
      "cell_type": "code",
      "source": [
        "print(\"Mediapipe initiation\")\n",
        "mp_holistic = mp.solutions.holistic # Holistic model\n",
        "mp_drawing = mp.solutions.drawing_utils # Drawing utilities"
      ],
      "metadata": {
        "id": "qkj2k4O1JwhY",
        "outputId": "94f06670-d62b-418d-8a5f-7a9d068c21d4",
        "colab": {
          "base_uri": "https://localhost:8080/"
        }
      },
      "execution_count": null,
      "outputs": [
        {
          "output_type": "stream",
          "name": "stdout",
          "text": [
            "Mediapipe initiation\n"
          ]
        }
      ]
    }
  ]
}