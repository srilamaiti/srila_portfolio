{
  "nbformat": 4,
  "nbformat_minor": 0,
  "metadata": {
    "colab": {
      "provenance": [],
      "authorship_tag": "ABX9TyO9tx6IgIxd4NSXGwtjqmFT",
      "include_colab_link": true
    },
    "kernelspec": {
      "name": "python3",
      "display_name": "Python 3"
    },
    "language_info": {
      "name": "python"
    }
  },
  "cells": [
    {
      "cell_type": "markdown",
      "metadata": {
        "id": "view-in-github",
        "colab_type": "text"
      },
      "source": [
        "<a href=\"https://colab.research.google.com/github/srilamaiti/fall_2023_210_capstone_deepika_srila/blob/main/final_deliverable/model/train_val_test_file_generation%20/generate_train_val_test_files_5classes_recorded_videos.ipynb\" target=\"_parent\"><img src=\"https://colab.research.google.com/assets/colab-badge.svg\" alt=\"Open In Colab\"/></a>"
      ]
    },
    {
      "cell_type": "code",
      "execution_count": 24,
      "metadata": {
        "colab": {
          "base_uri": "https://localhost:8080/"
        },
        "id": "IPASfgBEsJ8l",
        "outputId": "10080af4-9ba8-4704-f652-8a4c63ddd05d"
      },
      "outputs": [
        {
          "output_type": "stream",
          "name": "stdout",
          "text": [
            "Mounted at /content/drive\n"
          ]
        }
      ],
      "source": [
        "import os\n",
        "import random\n",
        "import tqdm\n",
        "import sys\n",
        "import pathlib\n",
        "import itertools\n",
        "import collections\n",
        "from pathlib import Path\n",
        "from sklearn.utils import shuffle\n",
        "import shutil\n",
        "import glob\n",
        "from glob import glob\n",
        "import urllib.request\n",
        "import subprocess\n",
        "from google.colab import drive\n",
        "drive.mount(\"/content/drive\", force_remount=True)\n",
        "os.environ['GDRIVE_CONFIG_DIR'] = \"/content/drive/MyDrive\"\n",
        "import warnings\n",
        "warnings.simplefilter(\"ignore\", category=DeprecationWarning)"
      ]
    },
    {
      "cell_type": "code",
      "source": [
        "LABEL_LIST = ['hello', 'thankyou', 'teacher', 'class', 'love']\n",
        "\n",
        "label_info_dict = {}\n",
        "for label in LABEL_LIST:\n",
        "    label_info_dict[label] = {'gdrive_dir_path' : os.path.join(os.environ['GDRIVE_CONFIG_DIR'], 'recorded_videos', f'{label}_avi_videos')}\n",
        "\n",
        "SPLITS = (.6, .2, .2)\n",
        "TOTAL_SAMPLES_PER_LABEL = 60\n",
        "TRAIN_RECS_PER_LABEL = int(TOTAL_SAMPLES_PER_LABEL * SPLITS[0])\n",
        "VAL_RECS_PER_LABEL = int(TOTAL_SAMPLES_PER_LABEL * SPLITS[1])\n",
        "TEST_RECS_PER_LABEL = int(TOTAL_SAMPLES_PER_LABEL * SPLITS[2])\n",
        "print(f\"TRAIN_RECS_PER_LABEL : {TRAIN_RECS_PER_LABEL}\")\n",
        "print(f\"VAL_RECS_PER_LABEL : {VAL_RECS_PER_LABEL}\")\n",
        "print(f\"TEST_RECS_PER_LABEL : {TEST_RECS_PER_LABEL}\")\n",
        "\n",
        "TRAIN_FILE_LIST = []\n",
        "VAL_FILE_LIST = []\n",
        "TEST_FILE_LIST = []\n",
        "\n",
        "def create_dir(dir_path):\n",
        "    os.makedirs(dir_path, exist_ok=True)\n",
        "\n",
        "def copy_file(file_name, dir_path):\n",
        "    !cp {file} {dir_path}\n",
        "\n",
        "def copy_set_of_files(file_list, dir_path):\n",
        "    #print(len(file_list), dir_path)\n",
        "    for file in file_list:\n",
        "        #print(f\"Copying {file} to {dir_path}\")\n",
        "        #copy_file(file_name = file, dir_path = dir_path)\n",
        "        !cp {file} {dir_path}\n",
        "    print(f\"File count in {dir_path} : {len(os.listdir(dir_path))}\")\n",
        "    #print(os.listdir(dir_path))\n",
        "\n",
        "def remove_files_from_dir(dir_path):\n",
        "    for file in os.listdir(dir_path):\n",
        "        qualified_file_name = os.path.join(dir_path, file)\n",
        "        !rm -rf {qualified_file_name}\n",
        "    print(f\"File count in {dir_path} : {len(os.listdir(dir_path))}\")\n",
        "\n",
        "random.seed(1234)\n",
        "os.environ['PYTHONHASHSEED'] = '1234'\n",
        "\n",
        "# Saving files in gdrive\n",
        "#current_ts = datetime.today().isoformat().replace(\"-\",\"\").replace(\"T\",\"\").replace(\":\",\"\").replace(\".\",\"\")\n",
        "TRAIN_FILE_NAME = os.path.join(os.environ['GDRIVE_CONFIG_DIR'], '5classes_train_val_test_files_recorded_videos', 'train_files.txt')\n",
        "VAL_FILE_NAME = os.path.join(os.environ['GDRIVE_CONFIG_DIR'], '5classes_train_val_test_files_recorded_videos', 'val_files.txt')\n",
        "TEST_FILE_NAME = os.path.join(os.environ['GDRIVE_CONFIG_DIR'], '5classes_train_val_test_files_recorded_videos', 'test_files.txt')\n",
        "\n",
        "train_file_pointer = open(TRAIN_FILE_NAME, 'w')\n",
        "val_file_pointer = open(VAL_FILE_NAME, 'w')\n",
        "test_file_pointer = open(TEST_FILE_NAME, 'w')\n",
        "\n",
        "for label in LABEL_LIST:\n",
        "    gdrive_path = label_info_dict[label]['gdrive_dir_path']\n",
        "\n",
        "    # test\n",
        "    temp_test_files_1 = subprocess.getoutput(f\"shuf -zn{TEST_RECS_PER_LABEL} -e {gdrive_path}/*.avi \").split(\"\\n\")\n",
        "    test_files = [e.split(\" -> \")[0].replace(\"'\",\"\") for e in temp_test_files_1]\n",
        "    test_files = test_files[0].split(\"\\x00\")[:-1]\n",
        "\n",
        "    # train\n",
        "    temp_train_files_1 = list(set([os.path.join(gdrive_path, file) for file in os.listdir(gdrive_path)]) - set(test_files))\n",
        "    temp_train_files_1 = sorted(temp_train_files_1, key=lambda x: random.random())\n",
        "    train_files = random.sample(temp_train_files_1, TRAIN_RECS_PER_LABEL)\n",
        "\n",
        "    # val\n",
        "    temp_val_files_1 = list(set([os.path.join(gdrive_path, file) for file in os.listdir(gdrive_path)]) - set(test_files) - set(train_files))\n",
        "    temp_val_files_1 = sorted(temp_val_files_1, key=lambda x: random.random())\n",
        "    val_files = random.sample(temp_val_files_1, VAL_RECS_PER_LABEL)\n",
        "\n",
        "    [train_file_pointer.writelines(e + \"\\n\") for e in train_files]\n",
        "    [val_file_pointer.writelines(e + \"\\n\") for e in val_files]\n",
        "    [test_file_pointer.writelines(e + \"\\n\") for e in test_files]\n",
        "\n",
        "# File closing\n",
        "train_file_pointer.close()\n",
        "val_file_pointer.close()\n",
        "test_file_pointer.close()"
      ],
      "metadata": {
        "colab": {
          "base_uri": "https://localhost:8080/"
        },
        "id": "eJn5pWmjs5ne",
        "outputId": "6941019b-d432-4a7b-b573-d9d7458a9d7d"
      },
      "execution_count": 25,
      "outputs": [
        {
          "output_type": "stream",
          "name": "stdout",
          "text": [
            "TRAIN_RECS_PER_LABEL : 36\n",
            "VAL_RECS_PER_LABEL : 12\n",
            "TEST_RECS_PER_LABEL : 12\n"
          ]
        }
      ]
    },
    {
      "cell_type": "code",
      "source": [
        "!cat {TRAIN_FILE_NAME}|wc -l"
      ],
      "metadata": {
        "colab": {
          "base_uri": "https://localhost:8080/"
        },
        "id": "8Q7BDH6xOset",
        "outputId": "33aee849-0720-4397-b9d4-8067a8d0ecbc"
      },
      "execution_count": 26,
      "outputs": [
        {
          "output_type": "stream",
          "name": "stdout",
          "text": [
            "180\n"
          ]
        }
      ]
    },
    {
      "cell_type": "code",
      "source": [
        "!cat {TEST_FILE_NAME}|wc -l"
      ],
      "metadata": {
        "colab": {
          "base_uri": "https://localhost:8080/"
        },
        "id": "NzE-dJUDO6xk",
        "outputId": "22cd83ab-4892-4538-d13d-51227eb10cc0"
      },
      "execution_count": 27,
      "outputs": [
        {
          "output_type": "stream",
          "name": "stdout",
          "text": [
            "60\n"
          ]
        }
      ]
    },
    {
      "cell_type": "code",
      "source": [
        "!cat {VAL_FILE_NAME}|wc -l"
      ],
      "metadata": {
        "colab": {
          "base_uri": "https://localhost:8080/"
        },
        "id": "uYLmUm1WO9sj",
        "outputId": "6eca42be-1067-4a6a-b386-73de0d670dcc"
      },
      "execution_count": 28,
      "outputs": [
        {
          "output_type": "stream",
          "name": "stdout",
          "text": [
            "60\n"
          ]
        }
      ]
    },
    {
      "cell_type": "code",
      "source": [
        "TRAIN_FILE_PATH = os.path.join(os.environ['GDRIVE_CONFIG_DIR'], '5classes_train_val_test_files_recorded_videos', 'train')\n",
        "VAL_FILE_PATH = os.path.join(os.environ['GDRIVE_CONFIG_DIR'], '5classes_train_val_test_files_recorded_videos', 'val')\n",
        "TEST_FILE_PATH = os.path.join(os.environ['GDRIVE_CONFIG_DIR'], '5classes_train_val_test_files_recorded_videos', 'test')\n",
        "\n",
        "for label in LABEL_LIST:\n",
        "    train_dir_name = os.path.join(TRAIN_FILE_PATH, label)\n",
        "    create_dir(train_dir_name)\n",
        "\n",
        "    val_dir_name = os.path.join(VAL_FILE_PATH, label)\n",
        "    create_dir(val_dir_name)\n",
        "\n",
        "    test_dir_name = os.path.join(TEST_FILE_PATH, label)\n",
        "    create_dir(test_dir_name)"
      ],
      "metadata": {
        "id": "IaYpNX-F2XDC"
      },
      "execution_count": 29,
      "outputs": []
    },
    {
      "cell_type": "code",
      "source": [
        "def copy_file_to_folder(file_name, dir_path):\n",
        "    fp = open(file_name, \"r\")\n",
        "    for file in fp:\n",
        "        file = file.strip()\n",
        "        label = file.split(\"/\")[-2].split(\"_\")[0]\n",
        "        base_file_name = os.path.basename(file)\n",
        "        dest_path = os.path.join(dir_path, label)\n",
        "        shutil.copy(file, dest_path)\n",
        "        #!ls -ltrSh {dir_path}/{label}/*.avi | wc -l"
      ],
      "metadata": {
        "id": "oWKn_we92qQO"
      },
      "execution_count": 30,
      "outputs": []
    },
    {
      "cell_type": "code",
      "source": [
        "for label in LABEL_LIST:\n",
        "    !rm -rf {TRAIN_FILE_PATH}/{label}/*.avi\n",
        "    !rm -rf {VAL_FILE_PATH}/{label}/*.avi\n",
        "    !rm -rf {TEST_FILE_PATH}/{label}/*.avi\n",
        "\n",
        "copy_file_to_folder(file_name = TRAIN_FILE_NAME, dir_path = TRAIN_FILE_PATH)\n",
        "copy_file_to_folder(file_name = VAL_FILE_NAME, dir_path = VAL_FILE_PATH)\n",
        "copy_file_to_folder(file_name = TEST_FILE_NAME, dir_path = TEST_FILE_PATH)\n",
        "\n",
        "for label in LABEL_LIST:\n",
        "    !ls -ltrSh {TRAIN_FILE_PATH}/{label}/*.avi | wc -l\n",
        "    !ls -ltrSh {VAL_FILE_PATH}/{label}/*.avi | wc -l\n",
        "    !ls -ltrSh {TEST_FILE_PATH}/{label}/*.avi | wc -l"
      ],
      "metadata": {
        "colab": {
          "base_uri": "https://localhost:8080/"
        },
        "id": "tklrKsH02_pu",
        "outputId": "f23f54b7-5bc4-4cad-f5b3-ffd896e856fa"
      },
      "execution_count": 31,
      "outputs": [
        {
          "output_type": "stream",
          "name": "stdout",
          "text": [
            "36\n",
            "12\n",
            "12\n",
            "36\n",
            "12\n",
            "12\n",
            "36\n",
            "12\n",
            "12\n",
            "36\n",
            "12\n",
            "12\n",
            "36\n",
            "12\n",
            "12\n"
          ]
        }
      ]
    }
  ]
}