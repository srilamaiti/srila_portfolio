{
  "nbformat": 4,
  "nbformat_minor": 0,
  "metadata": {
    "colab": {
      "provenance": [],
      "authorship_tag": "ABX9TyMRmfXrEayOHXXPYqAtZrog",
      "include_colab_link": true
    },
    "kernelspec": {
      "name": "python3",
      "display_name": "Python 3"
    },
    "language_info": {
      "name": "python"
    }
  },
  "cells": [
    {
      "cell_type": "markdown",
      "metadata": {
        "id": "view-in-github",
        "colab_type": "text"
      },
      "source": [
        "<a href=\"https://colab.research.google.com/github/srilamaiti/fall_2023_210_capstone_deepika_srila/blob/main/final_deliverable/model/train_val_test_file_generation%20/generate_train_val_test_files_8classes_webscraped_and_recorded_videos.ipynb\" target=\"_parent\"><img src=\"https://colab.research.google.com/assets/colab-badge.svg\" alt=\"Open In Colab\"/></a>"
      ]
    },
    {
      "cell_type": "code",
      "execution_count": 5,
      "metadata": {
        "colab": {
          "base_uri": "https://localhost:8080/"
        },
        "id": "IPASfgBEsJ8l",
        "outputId": "f5f67533-c330-4464-985b-5c3e42ff1d99"
      },
      "outputs": [
        {
          "output_type": "stream",
          "name": "stdout",
          "text": [
            "Mounted at /content/drive\n"
          ]
        }
      ],
      "source": [
        "import os\n",
        "import random\n",
        "import tqdm\n",
        "import sys\n",
        "import pathlib\n",
        "import itertools\n",
        "import collections\n",
        "from pathlib import Path\n",
        "from sklearn.utils import shuffle\n",
        "import shutil\n",
        "import glob\n",
        "from glob import glob\n",
        "import urllib.request\n",
        "import subprocess\n",
        "from google.colab import drive\n",
        "drive.mount(\"/content/drive\", force_remount=True)\n",
        "os.environ['GDRIVE_CONFIG_DIR'] = \"/content/drive/MyDrive\"\n",
        "import warnings\n",
        "warnings.simplefilter(\"ignore\", category=DeprecationWarning)"
      ]
    },
    {
      "cell_type": "code",
      "source": [
        "LABEL_LIST = ['hello', 'nice', 'meet', 'you', 'thankyou', 'teacher', 'class', 'love']\n",
        "\n",
        "label_info_dict = {}\n",
        "for label in LABEL_LIST:\n",
        "    label_info_dict[label] = {'gdrive_path_1' : os.path.join(os.environ['GDRIVE_CONFIG_DIR'], 'recorded_videos', f'{label}_avi_videos'),\n",
        "                              'gdrive_path_1_file_count' : len(glob(os.path.join(os.environ['GDRIVE_CONFIG_DIR'], 'recorded_videos', f'{label}_avi_videos') + \"/*.avi\")),\n",
        "                              'gdrive_path_2' : os.path.join(os.environ['GDRIVE_CONFIG_DIR'], 'webscraped_videos', f'{label}_avi_videos'),\n",
        "                              'gdrive_path_2_file_count' : len(glob(os.path.join(os.environ['GDRIVE_CONFIG_DIR'], 'webscraped_videos', f'{label}_avi_videos') + \"/*.avi\"))\n",
        "                             }\n",
        "label_info_dict"
      ],
      "metadata": {
        "id": "ZhU502QW5nxG",
        "outputId": "c7cf1fd3-48cc-409b-f72c-0558c649aaa6",
        "colab": {
          "base_uri": "https://localhost:8080/"
        }
      },
      "execution_count": 26,
      "outputs": [
        {
          "output_type": "execute_result",
          "data": {
            "text/plain": [
              "{'hello': {'gdrive_path_1': '/content/drive/MyDrive/recorded_videos/hello_avi_videos',\n",
              "  'gdrive_path_1_file_count': 189,\n",
              "  'gdrive_path_2': '/content/drive/MyDrive/webscraped_videos/hello_avi_videos',\n",
              "  'gdrive_path_2_file_count': 90},\n",
              " 'nice': {'gdrive_path_1': '/content/drive/MyDrive/recorded_videos/nice_avi_videos',\n",
              "  'gdrive_path_1_file_count': 171,\n",
              "  'gdrive_path_2': '/content/drive/MyDrive/webscraped_videos/nice_avi_videos',\n",
              "  'gdrive_path_2_file_count': 90},\n",
              " 'meet': {'gdrive_path_1': '/content/drive/MyDrive/recorded_videos/meet_avi_videos',\n",
              "  'gdrive_path_1_file_count': 198,\n",
              "  'gdrive_path_2': '/content/drive/MyDrive/webscraped_videos/meet_avi_videos',\n",
              "  'gdrive_path_2_file_count': 90},\n",
              " 'you': {'gdrive_path_1': '/content/drive/MyDrive/recorded_videos/you_avi_videos',\n",
              "  'gdrive_path_1_file_count': 180,\n",
              "  'gdrive_path_2': '/content/drive/MyDrive/webscraped_videos/you_avi_videos',\n",
              "  'gdrive_path_2_file_count': 72},\n",
              " 'thankyou': {'gdrive_path_1': '/content/drive/MyDrive/recorded_videos/thankyou_avi_videos',\n",
              "  'gdrive_path_1_file_count': 189,\n",
              "  'gdrive_path_2': '/content/drive/MyDrive/webscraped_videos/thankyou_avi_videos',\n",
              "  'gdrive_path_2_file_count': 90},\n",
              " 'teacher': {'gdrive_path_1': '/content/drive/MyDrive/recorded_videos/teacher_avi_videos',\n",
              "  'gdrive_path_1_file_count': 180,\n",
              "  'gdrive_path_2': '/content/drive/MyDrive/webscraped_videos/teacher_avi_videos',\n",
              "  'gdrive_path_2_file_count': 90},\n",
              " 'class': {'gdrive_path_1': '/content/drive/MyDrive/recorded_videos/class_avi_videos',\n",
              "  'gdrive_path_1_file_count': 189,\n",
              "  'gdrive_path_2': '/content/drive/MyDrive/webscraped_videos/class_avi_videos',\n",
              "  'gdrive_path_2_file_count': 90},\n",
              " 'love': {'gdrive_path_1': '/content/drive/MyDrive/recorded_videos/love_avi_videos',\n",
              "  'gdrive_path_1_file_count': 102,\n",
              "  'gdrive_path_2': '/content/drive/MyDrive/webscraped_videos/love_avi_videos',\n",
              "  'gdrive_path_2_file_count': 90}}"
            ]
          },
          "metadata": {},
          "execution_count": 26
        }
      ]
    },
    {
      "cell_type": "code",
      "source": [
        "SPLITS = (.6, .2, .2)\n",
        "TOTAL_SAMPLES_PER_LABEL_RECORDED_VIDEOS = 100\n",
        "TOTAL_SAMPLES_PER_LABEL_WEBSCRAPED_VIDEOS = 60\n",
        "\n",
        "TRAIN_RECS_PER_LABEL_RECORDED_VIDEOS = int(TOTAL_SAMPLES_PER_LABEL_RECORDED_VIDEOS * SPLITS[0])\n",
        "VAL_RECS_PER_LABEL_RECORDED_VIDEOS = int(TOTAL_SAMPLES_PER_LABEL_RECORDED_VIDEOS * SPLITS[1])\n",
        "TEST_RECS_PER_LABEL_RECORDED_VIDEOS = int(TOTAL_SAMPLES_PER_LABEL_RECORDED_VIDEOS * SPLITS[2])\n",
        "\n",
        "print(f\"TRAIN_RECS_PER_LABEL_RECORDED_VIDEOS : {TRAIN_RECS_PER_LABEL_RECORDED_VIDEOS}\")\n",
        "print(f\"VAL_RECS_PER_LABEL_RECORDED_VIDEOS : {VAL_RECS_PER_LABEL_RECORDED_VIDEOS}\")\n",
        "print(f\"TEST_RECS_PER_LABEL_RECORDED_VIDEOS : {TEST_RECS_PER_LABEL_RECORDED_VIDEOS}\")\n",
        "\n",
        "TRAIN_RECS_PER_LABEL_WEBSCRAPED_VIDEOS = int(TOTAL_SAMPLES_PER_LABEL_WEBSCRAPED_VIDEOS * SPLITS[0])\n",
        "VAL_RECS_PER_LABEL_WEBSCRAPED_VIDEOS = int(TOTAL_SAMPLES_PER_LABEL_WEBSCRAPED_VIDEOS * SPLITS[1])\n",
        "TEST_RECS_PER_LABEL_WEBSCRAPED_VIDEOS = int(TOTAL_SAMPLES_PER_LABEL_WEBSCRAPED_VIDEOS * SPLITS[2])\n",
        "\n",
        "print(f\"TRAIN_RECS_PER_LABEL_WEBSCRAPED_VIDEOS : {TRAIN_RECS_PER_LABEL_WEBSCRAPED_VIDEOS}\")\n",
        "print(f\"VAL_RECS_PER_LABEL_WEBSCRAPED_VIDEOS : {VAL_RECS_PER_LABEL_WEBSCRAPED_VIDEOS}\")\n",
        "print(f\"TEST_RECS_PER_LABEL_WEBSCRAPED_VIDEOS : {TEST_RECS_PER_LABEL_WEBSCRAPED_VIDEOS}\")"
      ],
      "metadata": {
        "id": "4JDFIjSM7rwK",
        "outputId": "5e3f7917-e0f7-4fe7-ca91-acd18d3e7d25",
        "colab": {
          "base_uri": "https://localhost:8080/"
        }
      },
      "execution_count": 28,
      "outputs": [
        {
          "output_type": "stream",
          "name": "stdout",
          "text": [
            "TRAIN_RECS_PER_LABEL_RECORDED_VIDEOS : 60\n",
            "VAL_RECS_PER_LABEL_RECORDED_VIDEOS : 20\n",
            "TEST_RECS_PER_LABEL_RECORDED_VIDEOS : 20\n",
            "TRAIN_RECS_PER_LABEL_WEBSCRAPED_VIDEOS : 36\n",
            "VAL_RECS_PER_LABEL_WEBSCRAPED_VIDEOS : 12\n",
            "TEST_RECS_PER_LABEL_WEBSCRAPED_VIDEOS : 12\n"
          ]
        }
      ]
    },
    {
      "cell_type": "code",
      "source": [
        "TRAIN_FILE_LIST = []\n",
        "VAL_FILE_LIST = []\n",
        "TEST_FILE_LIST = []\n",
        "\n",
        "def create_dir(dir_path):\n",
        "    os.makedirs(dir_path, exist_ok=True)\n",
        "\n",
        "def copy_file(file_name, dir_path):\n",
        "    !cp {file} {dir_path}\n",
        "\n",
        "def copy_set_of_files(file_list, dir_path):\n",
        "    #print(len(file_list), dir_path)\n",
        "    for file in file_list:\n",
        "        #print(f\"Copying {file} to {dir_path}\")\n",
        "        #copy_file(file_name = file, dir_path = dir_path)\n",
        "        !cp {file} {dir_path}\n",
        "    print(f\"File count in {dir_path} : {len(os.listdir(dir_path))}\")\n",
        "    #print(os.listdir(dir_path))\n",
        "\n",
        "def remove_files_from_dir(dir_path):\n",
        "    for file in os.listdir(dir_path):\n",
        "        qualified_file_name = os.path.join(dir_path, file)\n",
        "        !rm -rf {qualified_file_name}\n",
        "    print(f\"File count in {dir_path} : {len(os.listdir(dir_path))}\")\n",
        "\n",
        "random.seed(1234)\n",
        "os.environ['PYTHONHASHSEED'] = '1234'\n",
        "\n",
        "# Saving files in gdrive\n",
        "#current_ts = datetime.today().isoformat().replace(\"-\",\"\").replace(\"T\",\"\").replace(\":\",\"\").replace(\".\",\"\")\n",
        "TRAIN_FILE_NAME = os.path.join(os.environ['GDRIVE_CONFIG_DIR'], '8classes_train_val_test_files_recorded_and_webscraped_videos', 'train_files.txt')\n",
        "VAL_FILE_NAME = os.path.join(os.environ['GDRIVE_CONFIG_DIR'], '8classes_train_val_test_files_recorded_and_webscraped_videos', 'val_files.txt')\n",
        "TEST_FILE_NAME = os.path.join(os.environ['GDRIVE_CONFIG_DIR'], '8classes_train_val_test_files_recorded_and_webscraped_videos', 'test_files.txt')\n",
        "\n",
        "train_file_pointer = open(TRAIN_FILE_NAME, 'w')\n",
        "val_file_pointer = open(VAL_FILE_NAME, 'w')\n",
        "test_file_pointer = open(TEST_FILE_NAME, 'w')\n",
        "\n",
        "for label in LABEL_LIST:\n",
        "    gdrive_path_1 = label_info_dict[label]['gdrive_path_1'] # recorded videos\n",
        "    gdrive_path_2 = label_info_dict[label]['gdrive_path_2'] # webscraped videos\n",
        "\n",
        "    # test\n",
        "    temp_test_files_1 = subprocess.getoutput(f\"shuf -zn{TEST_RECS_PER_LABEL_RECORDED_VIDEOS} -e {gdrive_path_1}/*.avi \").split(\"\\n\")\n",
        "    test_files_1 = [e.split(\" -> \")[0].replace(\"'\",\"\") for e in temp_test_files_1]\n",
        "    test_files_1 = test_files_1[0].split(\"\\x00\")[:-1]\n",
        "    temp_test_files_2 = subprocess.getoutput(f\"shuf -zn{TEST_RECS_PER_LABEL_WEBSCRAPED_VIDEOS} -e {gdrive_path_2}/*.avi \").split(\"\\n\")\n",
        "    test_files_2 = [e.split(\" -> \")[0].replace(\"'\",\"\") for e in temp_test_files_2]\n",
        "    test_files_2 = test_files_2[0].split(\"\\x00\")[:-1]\n",
        "    test_files = test_files_1 + test_files_2\n",
        "\n",
        "    set_of_all_files = list(set([os.path.join(gdrive_path_1, file) for file in os.listdir(gdrive_path_1)] + [os.path.join(gdrive_path_2, file) for file in os.listdir(gdrive_path_2)]))\n",
        "\n",
        "    # train\n",
        "    temp_train_files_1 = list(set([os.path.join(gdrive_path_1, file) for file in os.listdir(gdrive_path_1)]) - set(test_files_1))\n",
        "    temp_train_files_1 = sorted(temp_train_files_1, key=lambda x: random.random())\n",
        "    train_files_1 = random.sample(temp_train_files_1, TRAIN_RECS_PER_LABEL_RECORDED_VIDEOS)\n",
        "    temp_train_files_2 = list(set([os.path.join(gdrive_path_2, file) for file in os.listdir(gdrive_path_2)]) - set(test_files_2))\n",
        "    temp_train_files_2 = sorted(temp_train_files_2, key=lambda x: random.random())\n",
        "    train_files_2 = random.sample(temp_train_files_2, TRAIN_RECS_PER_LABEL_WEBSCRAPED_VIDEOS)\n",
        "    train_files = train_files_1 + train_files_2\n",
        "\n",
        "    # val\n",
        "    temp_val_files_1 = list(set([os.path.join(gdrive_path_1, file) for file in os.listdir(gdrive_path_1)]) - set(test_files_1) - set(train_files_1))\n",
        "    temp_val_files_1 = sorted(temp_val_files_1, key=lambda x: random.random())\n",
        "    val_files_1 = random.sample(temp_val_files_1, VAL_RECS_PER_LABEL_RECORDED_VIDEOS)\n",
        "    temp_val_files_2 = list(set([os.path.join(gdrive_path_2, file) for file in os.listdir(gdrive_path_2)]) - set(test_files_2) - set(train_files_2))\n",
        "    temp_val_files_2 = sorted(temp_val_files_2, key=lambda x: random.random())\n",
        "    val_files_2 = random.sample(temp_val_files_2, VAL_RECS_PER_LABEL_WEBSCRAPED_VIDEOS)\n",
        "    val_files = val_files_1 + val_files_2\n",
        "\n",
        "    [train_file_pointer.writelines(e + \"\\n\") for e in train_files]\n",
        "    [val_file_pointer.writelines(e + \"\\n\") for e in val_files]\n",
        "    [test_file_pointer.writelines(e + \"\\n\") for e in test_files]\n",
        "\n",
        "# File closing\n",
        "train_file_pointer.close()\n",
        "val_file_pointer.close()\n",
        "test_file_pointer.close()"
      ],
      "metadata": {
        "id": "eJn5pWmjs5ne"
      },
      "execution_count": 30,
      "outputs": []
    },
    {
      "cell_type": "code",
      "source": [
        "!cat {TRAIN_FILE_NAME}|wc -l"
      ],
      "metadata": {
        "id": "8Q7BDH6xOset",
        "outputId": "c9507cbb-2be6-4975-fa83-6f8c39a19820",
        "colab": {
          "base_uri": "https://localhost:8080/"
        }
      },
      "execution_count": 31,
      "outputs": [
        {
          "output_type": "stream",
          "name": "stdout",
          "text": [
            "768\n"
          ]
        }
      ]
    },
    {
      "cell_type": "code",
      "source": [
        "!cat {TEST_FILE_NAME}|wc -l"
      ],
      "metadata": {
        "id": "NzE-dJUDO6xk",
        "outputId": "54cec437-2fd1-4f1c-9fd8-04fb9a1cabbb",
        "colab": {
          "base_uri": "https://localhost:8080/"
        }
      },
      "execution_count": 32,
      "outputs": [
        {
          "output_type": "stream",
          "name": "stdout",
          "text": [
            "256\n"
          ]
        }
      ]
    },
    {
      "cell_type": "code",
      "source": [
        "!cat {VAL_FILE_NAME}|wc -l"
      ],
      "metadata": {
        "id": "uYLmUm1WO9sj",
        "outputId": "c352c244-a7e3-4bb7-f101-24f7c9098bb5",
        "colab": {
          "base_uri": "https://localhost:8080/"
        }
      },
      "execution_count": 33,
      "outputs": [
        {
          "output_type": "stream",
          "name": "stdout",
          "text": [
            "256\n"
          ]
        }
      ]
    },
    {
      "cell_type": "code",
      "source": [
        "TRAIN_FILE_PATH = os.path.join(os.environ['GDRIVE_CONFIG_DIR'], '8classes_train_val_test_files_recorded_and_webscraped_videos', 'train')\n",
        "VAL_FILE_PATH = os.path.join(os.environ['GDRIVE_CONFIG_DIR'], '8classes_train_val_test_files_recorded_and_webscraped_videos', 'val')\n",
        "TEST_FILE_PATH = os.path.join(os.environ['GDRIVE_CONFIG_DIR'], '8classes_train_val_test_files_recorded_and_webscraped_videos', 'test')\n",
        "\n",
        "for label in LABEL_LIST:\n",
        "    train_dir_name = os.path.join(TRAIN_FILE_PATH, label)\n",
        "    create_dir(train_dir_name)\n",
        "\n",
        "    val_dir_name = os.path.join(VAL_FILE_PATH, label)\n",
        "    create_dir(val_dir_name)\n",
        "\n",
        "    test_dir_name = os.path.join(TEST_FILE_PATH, label)\n",
        "    create_dir(test_dir_name)"
      ],
      "metadata": {
        "id": "IaYpNX-F2XDC"
      },
      "execution_count": 34,
      "outputs": []
    },
    {
      "cell_type": "code",
      "source": [
        "def copy_file_to_folder(file_name, dir_path):\n",
        "    fp = open(file_name, \"r\")\n",
        "    for file in fp:\n",
        "        file = file.strip()\n",
        "        label = file.split(\"/\")[-2].split(\"_\")[0]\n",
        "        base_file_name = os.path.basename(file)\n",
        "        dest_path = os.path.join(dir_path, label)\n",
        "        shutil.copy(file, dest_path)\n",
        "        #!ls -ltrSh {dir_path}/{label}/*.avi | wc -l"
      ],
      "metadata": {
        "id": "oWKn_we92qQO"
      },
      "execution_count": 35,
      "outputs": []
    },
    {
      "cell_type": "code",
      "source": [
        "for label in LABEL_LIST:\n",
        "    !rm -rf {TRAIN_FILE_PATH}/{label}/*.avi\n",
        "    !rm -rf {VAL_FILE_PATH}/{label}/*.avi\n",
        "    !rm -rf {TEST_FILE_PATH}/{label}/*.avi\n",
        "\n",
        "copy_file_to_folder(file_name = TRAIN_FILE_NAME, dir_path = TRAIN_FILE_PATH)\n",
        "copy_file_to_folder(file_name = VAL_FILE_NAME, dir_path = VAL_FILE_PATH)\n",
        "copy_file_to_folder(file_name = TEST_FILE_NAME, dir_path = TEST_FILE_PATH)\n",
        "\n",
        "for label in LABEL_LIST:\n",
        "    !ls -ltrSh {TRAIN_FILE_PATH}/{label}/*.avi | wc -l\n",
        "    !ls -ltrSh {VAL_FILE_PATH}/{label}/*.avi | wc -l\n",
        "    !ls -ltrSh {TEST_FILE_PATH}/{label}/*.avi | wc -l"
      ],
      "metadata": {
        "id": "tklrKsH02_pu",
        "outputId": "9639355a-e3c8-4fe5-fadd-d391da4a6118",
        "colab": {
          "base_uri": "https://localhost:8080/"
        }
      },
      "execution_count": 36,
      "outputs": [
        {
          "output_type": "stream",
          "name": "stdout",
          "text": [
            "96\n",
            "32\n",
            "32\n",
            "96\n",
            "32\n",
            "32\n",
            "96\n",
            "32\n",
            "32\n",
            "96\n",
            "32\n",
            "32\n",
            "96\n",
            "32\n",
            "32\n",
            "96\n",
            "32\n",
            "32\n",
            "96\n",
            "32\n",
            "32\n",
            "96\n",
            "32\n",
            "32\n"
          ]
        }
      ]
    }
  ]
}