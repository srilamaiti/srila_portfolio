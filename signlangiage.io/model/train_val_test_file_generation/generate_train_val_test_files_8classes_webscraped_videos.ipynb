{
  "nbformat": 4,
  "nbformat_minor": 0,
  "metadata": {
    "colab": {
      "provenance": [],
      "authorship_tag": "ABX9TyNpHpadtA0Rco1+w8c5Abih",
      "include_colab_link": true
    },
    "kernelspec": {
      "name": "python3",
      "display_name": "Python 3"
    },
    "language_info": {
      "name": "python"
    }
  },
  "cells": [
    {
      "cell_type": "markdown",
      "metadata": {
        "id": "view-in-github",
        "colab_type": "text"
      },
      "source": [
        "<a href=\"https://colab.research.google.com/github/srilamaiti/fall_2023_210_capstone_deepika_srila/blob/main/final_deliverable/model/train_val_test_file_generation%20/generate_train_val_test_files_8classes_webscraped_videos.ipynb\" target=\"_parent\"><img src=\"https://colab.research.google.com/assets/colab-badge.svg\" alt=\"Open In Colab\"/></a>"
      ]
    },
    {
      "cell_type": "code",
      "execution_count": 1,
      "metadata": {
        "colab": {
          "base_uri": "https://localhost:8080/"
        },
        "id": "IPASfgBEsJ8l",
        "outputId": "06eb1aa2-a490-4f58-9833-0b4639a6493f"
      },
      "outputs": [
        {
          "output_type": "stream",
          "name": "stdout",
          "text": [
            "Mounted at /content/drive\n"
          ]
        }
      ],
      "source": [
        "import os\n",
        "import random\n",
        "import tqdm\n",
        "import sys\n",
        "import pathlib\n",
        "import itertools\n",
        "import collections\n",
        "from pathlib import Path\n",
        "from sklearn.utils import shuffle\n",
        "import shutil\n",
        "import glob\n",
        "from glob import glob\n",
        "import urllib.request\n",
        "import subprocess\n",
        "from google.colab import drive\n",
        "drive.mount(\"/content/drive\", force_remount=True)\n",
        "os.environ['GDRIVE_CONFIG_DIR'] = \"/content/drive/MyDrive\"\n",
        "import warnings\n",
        "warnings.simplefilter(\"ignore\", category=DeprecationWarning)"
      ]
    },
    {
      "cell_type": "code",
      "source": [
        "LABEL_LIST = ['hello', 'nice', 'meet', 'you', 'thankyou', 'teacher', 'class', 'love']\n",
        "\n",
        "label_info_dict = {}\n",
        "for label in LABEL_LIST:\n",
        "    label_info_dict[label] = {'gdrive_dir_path' : os.path.join(os.environ['GDRIVE_CONFIG_DIR'], 'webscraped_videos', f'{label}_avi_videos')}\n",
        "\n",
        "SPLITS = (.6, .2, .2)\n",
        "TOTAL_SAMPLES_PER_LABEL = 60\n",
        "TRAIN_RECS_PER_LABEL = int(TOTAL_SAMPLES_PER_LABEL * SPLITS[0])\n",
        "VAL_RECS_PER_LABEL = int(TOTAL_SAMPLES_PER_LABEL * SPLITS[1])\n",
        "TEST_RECS_PER_LABEL = int(TOTAL_SAMPLES_PER_LABEL * SPLITS[2])\n",
        "print(f\"TRAIN_RECS_PER_LABEL : {TRAIN_RECS_PER_LABEL}\")\n",
        "print(f\"VAL_RECS_PER_LABEL : {VAL_RECS_PER_LABEL}\")\n",
        "print(f\"TEST_RECS_PER_LABEL : {TEST_RECS_PER_LABEL}\")\n",
        "\n",
        "TRAIN_FILE_LIST = []\n",
        "VAL_FILE_LIST = []\n",
        "TEST_FILE_LIST = []\n",
        "\n",
        "def create_dir(dir_path):\n",
        "    os.makedirs(dir_path, exist_ok=True)\n",
        "\n",
        "def copy_file(file_name, dir_path):\n",
        "    !cp {file} {dir_path}\n",
        "\n",
        "def copy_set_of_files(file_list, dir_path):\n",
        "    #print(len(file_list), dir_path)\n",
        "    for file in file_list:\n",
        "        #print(f\"Copying {file} to {dir_path}\")\n",
        "        #copy_file(file_name = file, dir_path = dir_path)\n",
        "        !cp {file} {dir_path}\n",
        "    print(f\"File count in {dir_path} : {len(os.listdir(dir_path))}\")\n",
        "    #print(os.listdir(dir_path))\n",
        "\n",
        "def remove_files_from_dir(dir_path):\n",
        "    for file in os.listdir(dir_path):\n",
        "        qualified_file_name = os.path.join(dir_path, file)\n",
        "        !rm -rf {qualified_file_name}\n",
        "    print(f\"File count in {dir_path} : {len(os.listdir(dir_path))}\")\n",
        "\n",
        "random.seed(1234)\n",
        "os.environ['PYTHONHASHSEED'] = '1234'\n",
        "\n",
        "# Saving files in gdrive\n",
        "#current_ts = datetime.today().isoformat().replace(\"-\",\"\").replace(\"T\",\"\").replace(\":\",\"\").replace(\".\",\"\")\n",
        "TRAIN_FILE_NAME = os.path.join(os.environ['GDRIVE_CONFIG_DIR'], '8classes_train_val_test_files_webscraped_videos', 'train_files.txt')\n",
        "VAL_FILE_NAME = os.path.join(os.environ['GDRIVE_CONFIG_DIR'], '8classes_train_val_test_files_webscraped_videos', 'val_files.txt')\n",
        "TEST_FILE_NAME = os.path.join(os.environ['GDRIVE_CONFIG_DIR'], '8classes_train_val_test_files_webscraped_videos', 'test_files.txt')\n",
        "\n",
        "train_file_pointer = open(TRAIN_FILE_NAME, 'w')\n",
        "val_file_pointer = open(VAL_FILE_NAME, 'w')\n",
        "test_file_pointer = open(TEST_FILE_NAME, 'w')\n",
        "\n",
        "for label in LABEL_LIST:\n",
        "    gdrive_path = label_info_dict[label]['gdrive_dir_path']\n",
        "\n",
        "    # test\n",
        "    temp_test_files_1 = subprocess.getoutput(f\"shuf -zn{TEST_RECS_PER_LABEL} -e {gdrive_path}/*.avi \").split(\"\\n\")\n",
        "    test_files = [e.split(\" -> \")[0].replace(\"'\",\"\") for e in temp_test_files_1]\n",
        "    test_files = test_files[0].split(\"\\x00\")[:-1]\n",
        "\n",
        "    # train\n",
        "    temp_train_files_1 = list(set([os.path.join(gdrive_path, file) for file in os.listdir(gdrive_path)]) - set(test_files))\n",
        "    temp_train_files_1 = sorted(temp_train_files_1, key=lambda x: random.random())\n",
        "    train_files = random.sample(temp_train_files_1, TRAIN_RECS_PER_LABEL)\n",
        "\n",
        "    # val\n",
        "    temp_val_files_1 = list(set([os.path.join(gdrive_path, file) for file in os.listdir(gdrive_path)]) - set(test_files) - set(train_files))\n",
        "    temp_val_files_1 = sorted(temp_val_files_1, key=lambda x: random.random())\n",
        "    val_files = random.sample(temp_val_files_1, VAL_RECS_PER_LABEL)\n",
        "\n",
        "    [train_file_pointer.writelines(e + \"\\n\") for e in train_files]\n",
        "    [val_file_pointer.writelines(e + \"\\n\") for e in val_files]\n",
        "    [test_file_pointer.writelines(e + \"\\n\") for e in test_files]\n",
        "\n",
        "# File closing\n",
        "train_file_pointer.close()\n",
        "val_file_pointer.close()\n",
        "test_file_pointer.close()"
      ],
      "metadata": {
        "colab": {
          "base_uri": "https://localhost:8080/"
        },
        "id": "eJn5pWmjs5ne",
        "outputId": "6c850297-4b02-4525-f1df-7b0bcaab7561"
      },
      "execution_count": 2,
      "outputs": [
        {
          "output_type": "stream",
          "name": "stdout",
          "text": [
            "TRAIN_RECS_PER_LABEL : 36\n",
            "VAL_RECS_PER_LABEL : 12\n",
            "TEST_RECS_PER_LABEL : 12\n"
          ]
        }
      ]
    },
    {
      "cell_type": "code",
      "source": [
        "!cat {TRAIN_FILE_NAME}|wc -l"
      ],
      "metadata": {
        "id": "8Q7BDH6xOset",
        "outputId": "6c75d197-8482-4a5a-8846-2a016c292548",
        "colab": {
          "base_uri": "https://localhost:8080/"
        }
      },
      "execution_count": 3,
      "outputs": [
        {
          "output_type": "stream",
          "name": "stdout",
          "text": [
            "288\n"
          ]
        }
      ]
    },
    {
      "cell_type": "code",
      "source": [
        "!cat {TEST_FILE_NAME}|wc -l"
      ],
      "metadata": {
        "id": "NzE-dJUDO6xk",
        "outputId": "95c9b1e8-54f6-42e5-a129-799b8411cb50",
        "colab": {
          "base_uri": "https://localhost:8080/"
        }
      },
      "execution_count": 4,
      "outputs": [
        {
          "output_type": "stream",
          "name": "stdout",
          "text": [
            "96\n"
          ]
        }
      ]
    },
    {
      "cell_type": "code",
      "source": [
        "!cat {VAL_FILE_NAME}|wc -l"
      ],
      "metadata": {
        "id": "uYLmUm1WO9sj",
        "outputId": "1cb137b1-3559-4665-b6f9-48714ca7d07c",
        "colab": {
          "base_uri": "https://localhost:8080/"
        }
      },
      "execution_count": 5,
      "outputs": [
        {
          "output_type": "stream",
          "name": "stdout",
          "text": [
            "96\n"
          ]
        }
      ]
    },
    {
      "cell_type": "code",
      "source": [
        "TRAIN_FILE_PATH = os.path.join(os.environ['GDRIVE_CONFIG_DIR'], '8classes_train_val_test_files_webscraped_videos', 'train')\n",
        "VAL_FILE_PATH = os.path.join(os.environ['GDRIVE_CONFIG_DIR'], '8classes_train_val_test_files_webscraped_videos', 'val')\n",
        "TEST_FILE_PATH = os.path.join(os.environ['GDRIVE_CONFIG_DIR'], '8classes_train_val_test_files_webscraped_videos', 'test')\n",
        "\n",
        "for label in LABEL_LIST:\n",
        "    train_dir_name = os.path.join(TRAIN_FILE_PATH, label)\n",
        "    create_dir(train_dir_name)\n",
        "\n",
        "    val_dir_name = os.path.join(VAL_FILE_PATH, label)\n",
        "    create_dir(val_dir_name)\n",
        "\n",
        "    test_dir_name = os.path.join(TEST_FILE_PATH, label)\n",
        "    create_dir(test_dir_name)"
      ],
      "metadata": {
        "id": "IaYpNX-F2XDC"
      },
      "execution_count": 6,
      "outputs": []
    },
    {
      "cell_type": "code",
      "source": [
        "def copy_file_to_folder(file_name, dir_path):\n",
        "    fp = open(file_name, \"r\")\n",
        "    for file in fp:\n",
        "        file = file.strip()\n",
        "        label = file.split(\"/\")[-2].split(\"_\")[0]\n",
        "        base_file_name = os.path.basename(file)\n",
        "        dest_path = os.path.join(dir_path, label)\n",
        "        shutil.copy(file, dest_path)\n",
        "        #!ls -ltrSh {dir_path}/{label}/*.avi | wc -l"
      ],
      "metadata": {
        "id": "oWKn_we92qQO"
      },
      "execution_count": 7,
      "outputs": []
    },
    {
      "cell_type": "code",
      "source": [
        "for label in LABEL_LIST:\n",
        "    !rm -rf {TRAIN_FILE_PATH}/{label}/*.avi\n",
        "    !rm -rf {VAL_FILE_PATH}/{label}/*.avi\n",
        "    !rm -rf {TEST_FILE_PATH}/{label}/*.avi\n",
        "\n",
        "copy_file_to_folder(file_name = TRAIN_FILE_NAME, dir_path = TRAIN_FILE_PATH)\n",
        "copy_file_to_folder(file_name = VAL_FILE_NAME, dir_path = VAL_FILE_PATH)\n",
        "copy_file_to_folder(file_name = TEST_FILE_NAME, dir_path = TEST_FILE_PATH)\n",
        "\n",
        "for label in LABEL_LIST:\n",
        "    !ls -ltrSh {TRAIN_FILE_PATH}/{label}/*.avi | wc -l\n",
        "    !ls -ltrSh {VAL_FILE_PATH}/{label}/*.avi | wc -l\n",
        "    !ls -ltrSh {TEST_FILE_PATH}/{label}/*.avi | wc -l"
      ],
      "metadata": {
        "colab": {
          "base_uri": "https://localhost:8080/"
        },
        "id": "tklrKsH02_pu",
        "outputId": "d5c225ba-e7bd-4623-8bb3-78094484698a"
      },
      "execution_count": 8,
      "outputs": [
        {
          "output_type": "stream",
          "name": "stdout",
          "text": [
            "36\n",
            "12\n",
            "12\n",
            "36\n",
            "12\n",
            "12\n",
            "36\n",
            "12\n",
            "12\n",
            "36\n",
            "12\n",
            "12\n",
            "36\n",
            "12\n",
            "12\n",
            "36\n",
            "12\n",
            "12\n",
            "36\n",
            "12\n",
            "12\n",
            "36\n",
            "12\n",
            "12\n"
          ]
        }
      ]
    }
  ]
}